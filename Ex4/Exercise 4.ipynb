{
 "cells": [
  {
   "cell_type": "markdown",
   "metadata": {},
   "source": [
    "## Check that tree and exact method work"
   ]
  },
  {
   "cell_type": "code",
   "execution_count": 1,
   "metadata": {
    "scrolled": false
   },
   "outputs": [
    {
     "name": "stdout",
     "output_type": "stream",
     "text": [
      "\n",
      " Starting N^2 gravity of 100 particles: \n",
      "\n",
      "Done in 0.11326885223388672 seconds\n",
      "\n",
      "Starting tree gravity of 100 particles with theta = 0.4 : \n",
      "\n",
      "Done in 0.42569804191589355 seconds\n",
      "\n",
      "Number of nodes:  [68. 70. 80. 63. 82. 80. 76. 71. 77. 65. 81. 77. 65. 81. 90. 72. 73. 75.\n",
      " 66. 66. 69. 75. 60. 87. 77. 74. 83. 65. 63. 79. 83. 63. 89. 81. 65. 71.\n",
      " 75. 92. 77. 81. 72. 78. 78. 90. 78. 81. 85. 72. 74. 81. 80. 92. 73. 84.\n",
      " 69. 77. 71. 77. 80. 73. 70. 89. 69. 90. 73. 64. 71. 61. 84. 63. 76. 84.\n",
      " 85. 66. 85. 67. 73. 76. 81. 92. 77. 78. 77. 81. 93. 66. 82. 88. 69. 67.\n",
      " 85. 57. 63. 63. 81. 71. 84. 73. 79. 60.]\n",
      "\n",
      " Mean number of interactions:  75.65  +-  8.478649656637547\n",
      "f_approx - f_exact: \n",
      " [ 1.98173108e-05  1.80337198e-05 -2.85528438e-07  4.89973773e-05\n",
      "  8.22560013e-06 -2.76647658e-05 -1.02313453e-05 -2.84066366e-06\n",
      "  3.86558757e-05 -5.92884369e-05  7.05255458e-05  6.02230521e-06\n",
      "  8.82936130e-05  3.37668415e-06 -4.34835946e-05 -6.29970619e-05\n",
      "  2.93991441e-05  3.88142537e-05  1.10801217e-05 -2.92159763e-06\n",
      " -5.01039043e-06  5.34232814e-05 -1.93085044e-06 -3.12005617e-05\n",
      " -3.69147192e-05 -4.39214187e-06 -3.39226220e-05  8.54259048e-06\n",
      " -1.35903944e-05 -2.32271836e-05 -3.00569874e-05 -2.60992380e-04\n",
      " -2.99451269e-05  3.37750780e-05  3.70469620e-05 -5.01482641e-06\n",
      " -5.79677464e-06  9.02178308e-05  2.72146170e-05 -2.71695373e-06\n",
      "  1.08504969e-05  7.67177127e-06 -2.39878764e-05  3.05121504e-05\n",
      "  6.41795224e-05  4.53463718e-05  7.56132331e-05 -3.66551220e-05\n",
      " -2.36710147e-05  9.37335846e-05  5.62378941e-06  3.67996443e-05\n",
      "  3.86619836e-05  3.35183196e-05  3.01792566e-05  2.03397915e-05\n",
      "  6.01497085e-05 -2.26434142e-05 -6.10237739e-05 -1.84699340e-05\n",
      "  3.01609790e-05  4.16219241e-05  1.67563947e-05 -1.83914785e-05\n",
      "  1.96098730e-05 -6.77112403e-05  4.50462220e-05 -3.71384770e-05\n",
      "  8.33819945e-06  4.03336848e-05 -2.86430414e-05 -6.59283564e-06\n",
      "  1.65873638e-06  8.98322800e-06 -4.19100793e-05  8.21224384e-06\n",
      " -1.17306308e-05  8.98673261e-06 -4.76837719e-05 -3.46735600e-05\n",
      "  1.11233429e-05 -6.42419055e-06  5.27263263e-05 -5.50538503e-05\n",
      " -1.81736748e-06  3.12044140e-05 -7.40071603e-05 -6.16555102e-06\n",
      "  5.50322854e-06 -5.21784356e-06 -6.23312871e-05 -2.89420836e-06\n",
      "  2.06798271e-05  1.01622022e-04  7.53924852e-06  2.28512057e-05\n",
      " -3.94926455e-06  2.73466398e-05  6.36583497e-05 -4.70116576e-05]\n",
      "\n",
      " Mean error with tree algorithm:  0.002951910365024335  +-  0.0028320332089554\n",
      "\n",
      " -------------------------------------------------------\n"
     ]
    },
    {
     "data": {
      "text/plain": [
       "<Figure size 1200x700 with 1 Axes>"
      ]
     },
     "metadata": {},
     "output_type": "display_data"
    }
   ],
   "source": [
    "import call_tree\n",
    "import numpy as np\n",
    "import matplotlib.pyplot as plt\n",
    "\n",
    "#\n",
    "# Check if the algorithm works properly\n",
    "#\n",
    "\n",
    "n = 100\n",
    "anglemax = 0.4\n",
    "\n",
    "t_tree1, T_exact1, eta1, N_int1, pos, f = call_tree.main(n, anglemax, 1, 1, show = True, exact = True)"
   ]
  },
  {
   "cell_type": "markdown",
   "metadata": {},
   "source": [
    "## Now perform simulation on a bigger sample"
   ]
  },
  {
   "cell_type": "code",
   "execution_count": 2,
   "metadata": {
    "scrolled": true
   },
   "outputs": [
    {
     "name": "stdout",
     "output_type": "stream",
     "text": [
      "\n",
      " Starting N^2 gravity of 3000 particles: \n",
      "\n",
      "Done in 90.91667699813843 seconds\n",
      "\n",
      "Starting tree gravity of 3000 particles with theta = 0.8 : \n",
      "\n",
      "Done in 10.74794316291809 seconds\n",
      "\n",
      "\n",
      " Mean number of interactions:  118.40933333333334  +-  33.6066428883074\n",
      "\n",
      " Mean error with tree algorithm:  0.015892224551997278  +-  0.013443912064161484\n",
      "\n",
      " -------------------------------------------------------\n"
     ]
    }
   ],
   "source": [
    "n = 3000\n",
    "anglemax = 0.8\n",
    "\n",
    "t_tree, T_exact, eta, N_int, pos, f = call_tree.main(n, anglemax, 1, 1, exact = True)"
   ]
  },
  {
   "cell_type": "code",
   "execution_count": 3,
   "metadata": {
    "scrolled": true
   },
   "outputs": [
    {
     "data": {
      "image/png": "[encoded data removed]",
      "text/plain": [
       "<Figure size 864x504 with 1 Axes>"
      ]
     },
     "metadata": {
      "needs_background": "light"
     },
     "output_type": "display_data"
    }
   ],
   "source": [
    "plt.figure(figsize=[12,7])\n",
    "histo, bins, pathches = plt.hist(eta, 100, density = False)\n",
    "plt.xlabel('$\\eta$', fontsize = 15)\n",
    "plt.ylabel(' ', fontsize = 15)\n",
    "plt.title('Normalized Histogram of errors', fontsize = 15)\n",
    "#plt.xlim(50,2500)\n",
    "#plt.ylim(0,50)\n",
    "plt.show()"
   ]
  },
  {
   "cell_type": "markdown",
   "metadata": {},
   "source": [
    "The distribution of $\\eta$ is very wide, we will need to take care of outliers later by limiting our sample of $\\eta$ to within $2\\sigma$ from the mean."
   ]
  },
  {
   "cell_type": "markdown",
   "metadata": {},
   "source": [
    "## Now perform the simulation on a grid of values\n"
   ]
  },
  {
   "cell_type": "code",
   "execution_count": 4,
   "metadata": {},
   "outputs": [
    {
     "name": "stdout",
     "output_type": "stream",
     "text": [
      "\n",
      " Starting N^2 gravity of 5000 particles: \n",
      "\n",
      "Done in 219.50215911865234 seconds\n",
      "\n",
      "Starting tree gravity of 5000 particles with theta = 0.2 : \n",
      "\n",
      "Done in 386.0918369293213 seconds\n",
      "\n",
      "\n",
      " Mean number of interactions:  1879.5594  +-  400.5073832922934\n",
      "\n",
      " Mean error with tree algorithm:  0.0003914883689247208  +-  0.00030014883326804384\n",
      "\n",
      " -------------------------------------------------------\n",
      "Starting tree gravity of 5000 particles with theta = 0.4 : \n",
      "\n",
      "Done in 98.90308713912964 seconds\n",
      "\n",
      "\n",
      " Mean number of interactions:  576.8064  +-  147.9305435636603\n",
      "\n",
      " Mean error with tree algorithm:  0.002160879933617391  +-  0.00176885341044216\n",
      "\n",
      " -------------------------------------------------------\n",
      "Starting tree gravity of 5000 particles with theta = 0.8 : \n",
      "\n",
      "Done in 24.248167991638184 seconds\n",
      "\n",
      "\n",
      " Mean number of interactions:  133.8958  +-  34.92457218578346\n",
      "\n",
      " Mean error with tree algorithm:  0.009133046392131144  +-  0.010176033293580612\n",
      "\n",
      " -------------------------------------------------------\n",
      "\n",
      " Starting N^2 gravity of 10000 particles: \n",
      "\n",
      "Done in 961.9011659622192 seconds\n",
      "\n",
      "Starting tree gravity of 10000 particles with theta = 0.2 : \n",
      "\n",
      "Done in 954.4396488666534 seconds\n",
      "\n",
      "\n",
      " Mean number of interactions:  2598.7402  +-  614.2516864477948\n",
      "\n",
      " Mean error with tree algorithm:  0.00040622846440598786  +-  0.0002791227815374141\n",
      "\n",
      " -------------------------------------------------------\n",
      "Starting tree gravity of 10000 particles with theta = 0.4 : \n",
      "\n",
      "Done in 214.44894170761108 seconds\n",
      "\n",
      "\n",
      " Mean number of interactions:  704.5592  +-  176.2727752529017\n",
      "\n",
      " Mean error with tree algorithm:  0.0019704884387846742  +-  0.001656665730446954\n",
      "\n",
      " -------------------------------------------------------\n",
      "Starting tree gravity of 10000 particles with theta = 0.8 : \n",
      "\n",
      "Done in 42.43188714981079 seconds\n",
      "\n",
      "\n",
      " Mean number of interactions:  152.6014  +-  36.90860493218349\n",
      "\n",
      " Mean error with tree algorithm:  0.007698626374433388  +-  0.008565867430931825\n",
      "\n",
      " -------------------------------------------------------\n",
      "\n",
      " Starting N^2 gravity of 20000 particles: \n",
      "\n",
      "Done in 6051.368493080139 seconds\n",
      "\n",
      "Starting tree gravity of 20000 particles with theta = 0.2 : \n",
      "\n",
      "Done in 4963.058025836945 seconds\n",
      "\n",
      "\n",
      " Mean number of interactions:  3446.4798  +-  874.9895790190646\n",
      "\n",
      " Mean error with tree algorithm:  0.0003855043564431681  +-  0.00027601984052170954\n",
      "\n",
      " -------------------------------------------------------\n",
      "Starting tree gravity of 20000 particles with theta = 0.4 : \n",
      "\n",
      "Done in 521.8172280788422 seconds\n",
      "\n",
      "\n",
      " Mean number of interactions:  844.3516  +-  200.77366455150437\n",
      "\n",
      " Mean error with tree algorithm:  0.0019379694604653994  +-  0.001437995092535445\n",
      "\n",
      " -------------------------------------------------------\n",
      "Starting tree gravity of 20000 particles with theta = 0.8 : \n",
      "\n",
      "Done in 95.51457500457764 seconds\n",
      "\n",
      "\n",
      " Mean number of interactions:  173.10895  +-  38.00049578489075\n",
      "\n",
      " Mean error with tree algorithm:  0.00715660735370796  +-  0.007555922169324746\n",
      "\n",
      " -------------------------------------------------------\n"
     ]
    }
   ],
   "source": [
    "# Grid of parameters\n",
    "n = [5000, 10000, 20000]\n",
    "theta = [0.2, 0.4, 0.8]\n",
    "\n",
    "# Vectors that will contain relevant quantities\n",
    "t_tree = np.zeros((len(n), len(theta)))\n",
    "t_exact = np.zeros((len(n), len(theta)))\n",
    "eta = np.zeros((len(n), len(theta), 2))\n",
    "N_int = np.zeros((len(n), len(theta), 2))\n",
    "\n",
    "for i in range(len(n)):\n",
    "    #\n",
    "    # perform exact calculation only once for a given N\n",
    "    #\n",
    "    t_tree[i,0], t_exact[i,:], eta_temp, N_int_temp, particles_pos, force_exact = call_tree.main(n[i], theta[0], 1, 1, exact = True)\n",
    "    #\n",
    "    # take only values of eta in an acceptable range\n",
    "    #\n",
    "    eta_temp = eta_temp[eta_temp < (np.mean(eta_temp) + 2*np.std(eta_temp))]\n",
    "    eta[i,0,:] = [np.mean(eta_temp), np.std(eta_temp)]\n",
    "    N_int[i,0,:] = [np.mean(N_int_temp), np.std(N_int_temp)]\n",
    "    \n",
    "    for j in range(1,len(n)):\n",
    "        #\n",
    "        # perform only tree algorithm for different angles\n",
    "        #\n",
    "        t_tree[i,j], eta_temp, N_int_temp = call_tree.main(n[i], theta[j], particles_pos, force_exact)\n",
    "        eta_temp = eta_temp[eta_temp < (np.mean(eta_temp) + 2*np.std(eta_temp))]\n",
    "        eta[i,j,:] = [np.mean(eta_temp), np.std(eta_temp)]\n",
    "        N_int[i,j,:] = [np.mean(N_int_temp), np.std(N_int_temp)]"
   ]
  },
  {
   "cell_type": "code",
   "execution_count": 9,
   "metadata": {},
   "outputs": [
    {
     "name": "stdout",
     "output_type": "stream",
     "text": [
      "\n",
      " Time used by exact algorithm: \n",
      "\n",
      "    N    T_exact\n",
      "-----  ---------\n",
      " 5000    219.502\n",
      "10000    961.901\n",
      "20000   6051.37\n",
      "\n",
      " Time used by tree algorithm: \n",
      "\n",
      "    N    theta = 0.2    theta = 0.4    theta = 0.8\n",
      "-----  -------------  -------------  -------------\n",
      " 5000        386.092        98.9031        24.2482\n",
      "10000        954.44        214.449         42.4319\n",
      "20000       4963.06        521.817         95.5146\n",
      "\n",
      " Mean error made by tree algorithm: \n",
      "\n",
      "    N    theta = 0.2    theta = 0.4    theta = 0.8\n",
      "-----  -------------  -------------  -------------\n",
      " 5000    0.000352061     0.00194255     0.00775196\n",
      "10000    0.000375255     0.00180113     0.00638847\n",
      "20000    0.000354467     0.00178089     0.00603204\n",
      "\n",
      " Mean number of interactions made by tree algorithm: \n",
      "\n",
      "    N    theta = 0.2    theta = 0.4    theta = 0.8\n",
      "-----  -------------  -------------  -------------\n",
      " 5000        1879.56        576.806        133.896\n",
      "10000        2598.74        704.559        152.601\n",
      "20000        3446.48        844.352        173.109\n"
     ]
    }
   ],
   "source": [
    "#\n",
    "# Show results\n",
    "#\n",
    "\n",
    "# Grid of parameters\n",
    "n = [5000, 10000, 20000]\n",
    "theta = [0.2, 0.4, 0.8]\n",
    "\n",
    "from tabulate import tabulate\n",
    "\n",
    "results_time_exact = [(n[i], t_exact[i,0]) for i in [0,1,2]]\n",
    "print('\\n Time used by exact algorithm: \\n')\n",
    "print(tabulate(results_time_exact, headers=[\"N\", \"T_exact\"]))\n",
    "\n",
    "print('\\n Time used by tree algorithm: \\n')\n",
    "print(tabulate({\"N\": np.array(n).reshape(-1,1), \"theta = 0.2\": t_tree[:,0], \"theta = 0.4\": t_tree[:,1], \"theta = 0.8\": t_tree[:,2] }, headers=\"keys\"))\n",
    "\n",
    "print('\\n Mean error made by tree algorithm: \\n')\n",
    "print(tabulate({\"N\": np.array(n).reshape(-1,1), \"theta = 0.2\": eta[:,0,0], \"theta = 0.4\": eta[:,1,0], \"theta = 0.8\": eta[:,2,0] }, headers=\"keys\"))\n",
    "\n",
    "print('\\n Mean number of interactions made by tree algorithm: \\n')\n",
    "print(tabulate({\"N\": np.array(n).reshape(-1,1), \"theta = 0.2\": N_int[:,0,0], \"theta = 0.4\": N_int[:,1,0], \"theta = 0.8\": N_int[:,2,0] }, headers=\"keys\"))\n"
   ]
  },
  {
   "cell_type": "markdown",
   "metadata": {},
   "source": [
    "Here we see the results of the algorithm calculations: the time of calculation and also the mean number of interactions increase decreasing $\\theta$ and of course increasing the number of particles; moreover, with fewer particles the tree algorithm with $\\theta = 0.2$ takes actually more or the same time as the full calculation. Of course also the error is best with small angles and a higher number of particles and also the mean number of interactions. Weighting computational cost and precision probabily Tree with $\\theta = 0.4$ is the best choice."
   ]
  },
  {
   "cell_type": "code",
   "execution_count": 11,
   "metadata": {},
   "outputs": [
    {
     "name": "stdout",
     "output_type": "stream",
     "text": [
      "\n",
      " Tree algorithm computational time (theta = 0.2) =  [0.030763] * Nlog(N) +  -1311.0268099812006\n",
      "\n",
      " Tree algorithm computational time (theta = 0.4)=  [0.00274853] * Nlog(N) +  -26.476475433035944\n",
      "\n",
      " Tree algorithm computational time (theta = 0.8) =  [0.00046508] * Nlog(N) +  2.4781392761015937\n",
      "\n",
      " Exact algorithm computational time =  [1.59554286e-05] * N^2 +  -381.27605978647944\n"
     ]
    },
    {
     "name": "stderr",
     "output_type": "stream",
     "text": [
      "/Library/Frameworks/Python.framework/Versions/3.8/lib/python3.8/site-packages/IPython/core/pylabtools.py:128: UserWarning: Creating legend with loc=\"best\" can be slow with large amounts of data.\n",
      "  fig.canvas.print_figure(bytes_io, **kw)\n"
     ]
    },
    {
     "data": {
      "image/png": "[encoded data removed]",
      "text/plain": [
       "<Figure size 1080x576 with 2 Axes>"
      ]
     },
     "metadata": {
      "needs_background": "light"
     },
     "output_type": "display_data"
    }
   ],
   "source": [
    "#\n",
    "# Now fit calculation time \n",
    "#\n",
    "\n",
    "from sklearn.linear_model import LinearRegression\n",
    "\n",
    "# First with tree algorithm\n",
    "\n",
    "n = np.array(n).reshape(-1,1)\n",
    "\n",
    "n_tree = n*np.log(n)   # make logarithm of number of particles\n",
    "reg_tree_1 = LinearRegression().fit(n_tree, t_tree[:,0])\n",
    "\n",
    "print('\\n Tree algorithm computational time (theta = 0.2) = ', reg_tree_1.coef_,'* Nlog(N) + ', reg_tree_1.intercept_)\n",
    "\n",
    "reg_tree_2 = LinearRegression().fit(n_tree, t_tree[:,1])\n",
    "\n",
    "print('\\n Tree algorithm computational time (theta = 0.4)= ', reg_tree_2.coef_,'* Nlog(N) + ', reg_tree_2.intercept_)\n",
    "\n",
    "reg_tree_3 = LinearRegression().fit(n_tree, t_tree[:,2])\n",
    "\n",
    "print('\\n Tree algorithm computational time (theta = 0.8) = ', reg_tree_3.coef_,'* Nlog(N) + ', reg_tree_3.intercept_)\n",
    "\n",
    "\n",
    "n_exact = n**2   # make logarithm of number of particles\n",
    "reg_exact = LinearRegression().fit(n_exact, t_exact[:,0])\n",
    "\n",
    "print('\\n Exact algorithm computational time = ', reg_exact.coef_,'* N^2 + ', reg_exact.intercept_)\n",
    "\n",
    "#\n",
    "# Plot results\n",
    "#\n",
    "\n",
    "fig2 = plt.subplots(figsize=[15,8])\n",
    "\n",
    "x = np.arange(0, 6*10**8, 100).reshape(-1,1)\n",
    "\n",
    "plt.subplot(1,2,1)\n",
    "plt.plot(n_tree, t_tree[:,0], 'ro', label = 'Simulation points (theta = 0.2)', markersize = 8)\n",
    "plt.plot(n_tree, t_tree[:,1], 'co', label = 'Simulation points (theta = 0.4)', markersize = 8)\n",
    "plt.plot(n_tree, t_tree[:,2], 'o', label = 'Simulation points (theta = 0.8)', markersize = 8)\n",
    "plt.plot(x, reg_tree_1.predict(x), '-b', label = 'Fitting curve (theta = 0.2)')\n",
    "plt.plot(x, reg_tree_2.predict(x), '-g', label = 'Fitting curve (theta = 0.4)')\n",
    "plt.plot(x, reg_tree_3.predict(x), '-k', label = 'Fitting curve (theta = 0.8)')\n",
    "plt.title('Fit of tree simulation time', fontsize = 15)\n",
    "plt.xlabel('$N\\cdot ln(N)$', fontsize = 15)\n",
    "plt.ylabel('$t_{tree}$', fontsize = 15)\n",
    "plt.xlim(0, 250000)\n",
    "plt.ylim(0,5500)\n",
    "plt.legend()\n",
    "\n",
    "plt.subplot(1,2,2)\n",
    "plt.plot(n_exact, t_exact[:,0], 'ro', label = 'Simulation points', markersize = 8)\n",
    "plt.plot(x, reg_exact.predict(x), '--b', label = 'Fitting curve')\n",
    "plt.title('Fit of exact simulation time', fontsize = 15)\n",
    "plt.xlabel('$N^2$', fontsize = 15)\n",
    "plt.ylabel('$t_{exact}$', fontsize = 15)\n",
    "plt.legend()\n",
    "\n",
    "plt.show(fig2)"
   ]
  },
  {
   "cell_type": "markdown",
   "metadata": {},
   "source": [
    "Apart from data with $\\theta = 0.2$, every other set of data follows the predicted behaviour. We can also estimate the time needed by the various algorithm to perform a simulation of $10^{10}$ particles:"
   ]
  },
  {
   "cell_type": "code",
   "execution_count": 14,
   "metadata": {},
   "outputs": [
    {
     "name": "stdout",
     "output_type": "stream",
     "text": [
      "Time needed by the exact algorithm:  [1.2391432e+14]  s , i.e.  [3929297.30746816]  years \n",
      "\n",
      "Time needed by the tree algorithm (theta = 0.2):  [7.0834419e+09]  s , i.e.  [224.61446924]  years \n",
      "\n",
      "Time needed by the tree algorithm (theta = 0.4):  [6.32872572e+08]  s , i.e.  [20.06825761]  years \n",
      "\n",
      "Time needed by the tree algorithm (theta = 0.8):  [1.07089045e+08]  s , i.e.  [3.39577136]  years \n",
      "\n"
     ]
    }
   ],
   "source": [
    "N_pred = np.array(10**10).reshape(1,-1)\n",
    "\n",
    "print('Time needed by the exact algorithm: ', reg_exact.predict(N_pred**2), ' s , i.e. ', reg_exact.predict(N_pred**2)/(3600*24*365), ' years \\n')\n",
    "print('Time needed by the tree algorithm (theta = 0.2): ', reg_tree_1.predict(N_pred*np.log(N_pred)),  ' s , i.e. ', reg_tree_1.predict(N_pred*np.log(N_pred))/(3600*24*365), ' years \\n')\n",
    "print('Time needed by the tree algorithm (theta = 0.4): ', reg_tree_2.predict(N_pred*np.log(N_pred)),  ' s , i.e. ', reg_tree_2.predict(N_pred*np.log(N_pred))/(3600*24*365), ' years \\n')\n",
    "print('Time needed by the tree algorithm (theta = 0.8): ', reg_tree_3.predict(N_pred*np.log(N_pred)),  ' s , i.e. ', reg_tree_3.predict(N_pred*np.log(N_pred))/(3600*24*365), ' years \\n')"
   ]
  },
  {
   "cell_type": "code",
   "execution_count": null,
   "metadata": {},
   "outputs": [],
   "source": []
  }
 ],
 "metadata": {
  "kernelspec": {
   "display_name": "Python 3",
   "language": "python",
   "name": "python3"
  },
  "language_info": {
   "codemirror_mode": {
    "name": "ipython",
    "version": 3
   },
   "file_extension": ".py",
   "mimetype": "text/x-python",
   "name": "python",
   "nbconvert_exporter": "python",
   "pygments_lexer": "ipython3",
   "version": "3.7.1"
  }
 },
 "nbformat": 4,
 "nbformat_minor": 2
}
