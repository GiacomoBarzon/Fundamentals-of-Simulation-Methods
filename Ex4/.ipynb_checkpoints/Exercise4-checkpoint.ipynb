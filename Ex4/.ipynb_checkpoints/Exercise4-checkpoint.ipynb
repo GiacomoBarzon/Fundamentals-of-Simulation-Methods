{
 "cells": [
  {
   "cell_type": "markdown",
   "metadata": {},
   "source": [
    "## Check that tree and exact method work"
   ]
  },
  {
   "cell_type": "code",
   "execution_count": 1,
   "metadata": {
    "scrolled": false
   },
   "outputs": [
    {
     "name": "stdout",
     "output_type": "stream",
     "text": [
      "\n",
      " Starting N^2 gravity of 100 particles: \n",
      "\n",
      "Done in 0.12210488319396973 seconds\n",
      "\n",
      "Starting tree gravity of 100 particles with theta = 0.4 : \n",
      "\n",
      "Done in 0.302217960357666 seconds\n",
      "\n",
      "Number of nodes:  [52.  8. 52. 52. 52. 88. 52. 52. 52. 52. 52. 52. 52. 98. 52. 52. 52. 52.\n",
      " 52. 52. 52. 52. 52. 52. 88. 52. 88. 52. 52. 52. 52. 88. 52. 52. 52. 52.\n",
      " 88. 52. 88. 52. 52. 88.  8. 52. 52. 52. 52. 52. 88. 52. 52. 52. 52. 52.\n",
      " 52. 52. 52. 52. 88. 52. 88. 52. 98. 52. 52.  8. 52. 52. 52. 52. 52. 52.\n",
      " 52. 52. 52. 52. 52. 88. 52. 52. 52. 52. 52. 52. 52. 52. 88. 52. 52. 52.\n",
      " 98. 52. 52. 52. 52. 52. 88. 52.  8. 52.]\n",
      "\n",
      " Mean number of interactions:  56.3  +-  17.056083958517558\n",
      "f_approx - f_exact: \n",
      " [-0.03642965 -0.02130142 -0.03469611 -0.03351773 -0.04653222 -0.22895702\n",
      " -0.02561293 -0.06500806 -0.06433775 -0.06864436 -0.03304734 -0.03996233\n",
      " -0.06626579 -0.13243209 -0.04761944 -0.0319844  -0.03665334 -0.05988261\n",
      " -0.04811969 -0.05849016 -0.05758051 -0.04279294 -0.01956412 -0.0310347\n",
      " -0.04032929 -0.07277546 -0.02458473 -0.03423954 -0.05621261 -0.0383958\n",
      " -0.02897447 -0.04787056 -0.04185979 -0.0418226  -0.04765785 -0.04835265\n",
      " -0.01384232 -0.03801827 -0.02743891 -0.03872181 -0.04384774 -0.0155461\n",
      " -0.01435249 -0.03599659 -0.02912631 -0.06313037 -0.06379893 -0.02398037\n",
      " -0.00893512 -0.03116859 -0.04104736 -0.03770733 -0.024453   -0.01579316\n",
      " -0.03504509 -0.0505394  -0.0347244  -0.0220044  -0.04242554 -0.02547698\n",
      " -0.03384671 -0.05207241 -0.13519261 -0.04463822 -0.03729579 -0.01578769\n",
      " -0.06055413 -0.07396738 -0.05738681 -0.04420514 -0.0102364  -0.02722642\n",
      " -0.05333788 -0.07442473 -0.03501132 -0.02699084 -0.02076393 -0.02678639\n",
      " -0.03614376 -0.05080116 -0.04414897 -0.05959482 -0.04115725 -0.03756238\n",
      " -0.02862229 -0.0333133  -0.22824775 -0.04177371 -0.04132189 -0.04044783\n",
      " -0.04907518 -0.04554219 -0.04944531 -0.0585123  -0.0309158  -0.04037591\n",
      " -0.01825768 -0.05560719 -0.01723958 -0.02017502]\n",
      "\n",
      " Mean error with tree algorithm:  0.776187008409348  +-  0.10541722211156657\n",
      "\n",
      " -------------------------------------------------------\n"
     ]
    },
    {
     "data": {
      "text/plain": [
       "<Figure size 1200x700 with 1 Axes>"
      ]
     },
     "metadata": {},
     "output_type": "display_data"
    }
   ],
   "source": [
    "import call_tree\n",
    "import numpy as np\n",
    "import matplotlib.pyplot as plt\n",
    "\n",
    "n = 100\n",
    "anglemax = 0.4\n",
    "\n",
    "t_tree1, T_exact1, eta1, N_int1, pos, f = call_tree.main(n, anglemax, 1, 1, show = True, exact = True)"
   ]
  },
  {
   "cell_type": "markdown",
   "metadata": {},
   "source": [
    "## Now perform simulation on a bigger sample"
   ]
  },
  {
   "cell_type": "code",
   "execution_count": 2,
   "metadata": {
    "scrolled": true
   },
   "outputs": [
    {
     "name": "stdout",
     "output_type": "stream",
     "text": [
      "\n",
      " Starting N^2 gravity of 3000 particles: \n",
      "\n",
      "Done in 116.9179458618164 seconds\n",
      "\n",
      "Starting tree gravity of 3000 particles with theta = 0.8 : \n",
      "\n",
      "Done in 3.0602848529815674 seconds\n",
      "\n",
      "\n",
      " Mean number of interactions:  31.786  +-  129.43451962543324\n",
      "\n",
      " Mean error with tree algorithm:  0.807819524742678  +-  0.6264215471792579\n",
      "\n",
      " -------------------------------------------------------\n"
     ]
    }
   ],
   "source": [
    "n = 3000\n",
    "anglemax = 0.8\n",
    "\n",
    "t_tree, T_exact, eta, N_int, pos, f = call_tree.main(n, anglemax, 1, 1, exact = True)"
   ]
  },
  {
   "cell_type": "code",
   "execution_count": 3,
   "metadata": {},
   "outputs": [
    {
     "data": {
      "image/png": "[encoded data removed]",
      "text/plain": [
       "<Figure size 864x504 with 1 Axes>"
      ]
     },
     "metadata": {
      "needs_background": "light"
     },
     "output_type": "display_data"
    }
   ],
   "source": [
    "plt.figure(figsize=[12,7])\n",
    "histo, bins, pathches = plt.hist(eta, 100, density = False)\n",
    "plt.xlabel('$\\eta$', fontsize = 15)\n",
    "plt.ylabel(' ', fontsize = 15)\n",
    "plt.title('Normalized Histogram of errors', fontsize = 15)\n",
    "#plt.xlim(50,2500)\n",
    "#plt.ylim(0,50)\n",
    "plt.show()"
   ]
  },
  {
   "cell_type": "markdown",
   "metadata": {},
   "source": [
    "The distribution of $\\eta$ is very wide, we will need to take care of outliers later."
   ]
  },
  {
   "cell_type": "markdown",
   "metadata": {},
   "source": [
    "## Now perform the simulation on a grid of values\n"
   ]
  },
  {
   "cell_type": "code",
   "execution_count": null,
   "metadata": {},
   "outputs": [],
   "source": [
    "# Grid of parameters\n",
    "n = [5000, 10000, 20000]\n",
    "theta = [0.2, 0.4, 0.8]\n",
    "\n",
    "# Vectors that will contain relevant quantities\n",
    "t_tree = np.zeros((len(n), len(theta)))\n",
    "t_exact = np.zeros((len(n), len(theta)))\n",
    "eta = np.zeros((len(n), len(theta), 2))\n",
    "N_int = np.zeros((len(n), len(theta), 2))\n",
    "\n",
    "for i in range(len(n)):\n",
    "    #\n",
    "    # perform exact calculation only once for a given N\n",
    "    #\n",
    "    t_dull, t_exact[i,:], eta_temp, N_int_temp, particles_pos, force_exact = call_tree.main(n[i], theta[0], 1, 1, exact = True)\n",
    "    #\n",
    "    # take only values of eta in an acceptable range\n",
    "    #\n",
    "    eta_temp = eta_temp[eta_temp < (np.mean(eta_temp) + np.std(eta_temp))]\n",
    "    eta[i,0,:] = [np.mean(eta_temp), np.std(eta_temp)]\n",
    "    N_int[i,0,:] = [np.mean(N_int_temp), np.std(N_int_temp)]\n",
    "    \n",
    "    for j in range(1,len(n)):\n",
    "        #\n",
    "        # perform only tree algorithm for different angles\n",
    "        #\n",
    "        t_tree[i,j], eta_temp, N_int_temp = call_tree.main(n[i], theta[j], particles_pos, force_exact)\n",
    "        eta_temp = eta_temp[eta_temp < (np.mean(eta_temp) + np.std(eta_temp))]\n",
    "        eta[i,j,:] = [np.mean(eta_temp), np.std(eta_temp)]\n",
    "        N_int[i,j,:] = [np.mean(N_int_temp), np.std(N_int_temp)]"
   ]
  },
  {
   "cell_type": "code",
   "execution_count": 23,
   "metadata": {},
   "outputs": [
    {
     "name": "stdout",
     "output_type": "stream",
     "text": [
      "\n",
      " Time used by exact algorithm: \n",
      "\n",
      "    N    T_exact\n",
      "-----  ---------\n",
      " 5000          0\n",
      "10000          0\n",
      "20000          0\n",
      "\n",
      " Time used by tree algorithm: \n",
      "\n",
      "    N    theta = 0.2    theta = 0.4    theta = 0.8\n",
      "-----  -------------  -------------  -------------\n",
      " 5000              0              0              0\n",
      "10000              0              0              0\n",
      "20000              0              0              0\n",
      "\n",
      " Mean error made by tree algorithm: \n",
      "\n",
      "    N    theta = 0.2    theta = 0.4    theta = 0.8\n",
      "-----  -------------  -------------  -------------\n",
      " 5000              0              0              0\n",
      "10000              0              0              0\n",
      "20000              0              0              0\n",
      "\n",
      " Mean number of interactions made by tree algorithm: \n",
      "\n",
      "    N    theta = 0.2    theta = 0.4    theta = 0.8\n",
      "-----  -------------  -------------  -------------\n",
      " 5000              0              0              0\n",
      "10000              0              0              0\n",
      "20000              0              0              0\n"
     ]
    }
   ],
   "source": [
    "#\n",
    "# Show results\n",
    "#\n",
    "\n",
    "# Grid of parameters\n",
    "n = [5000, 10000, 20000]\n",
    "theta = [0.2, 0.4, 0.8]\n",
    "\n",
    "# Vectors that will contain relevant quantities\n",
    "t_tree = np.zeros((len(n), len(theta)))\n",
    "t_exact = np.zeros((len(n), len(theta)))\n",
    "eta = np.zeros((len(n), len(theta), 2))\n",
    "N_int = np.zeros((len(n), len(theta), 2))\n",
    "\n",
    "from tabulate import tabulate\n",
    "\n",
    "results_time_exact = [(n[i], t_exact[i,0]) for i in [0,1,2]]\n",
    "print('\\n Time used by exact algorithm: \\n')\n",
    "print(tabulate(results_time_exact, headers=[\"N\", \"T_exact\"]))\n",
    "\n",
    "print('\\n Time used by tree algorithm: \\n')\n",
    "print(tabulate({\"N\": np.array(n).reshape(-1,1), \"theta = 0.2\": t_tree[:,0], \"theta = 0.4\": t_tree[:,1], \"theta = 0.8\": t_tree[:,2] }, headers=\"keys\"))\n",
    "\n",
    "print('\\n Mean error made by tree algorithm: \\n')\n",
    "print(tabulate({\"N\": np.array(n).reshape(-1,1), \"theta = 0.2\": eta[:,0,0], \"theta = 0.4\": eta[:,1,0], \"theta = 0.8\": eta[:,2,0] }, headers=\"keys\"))\n",
    "\n",
    "print('\\n Mean number of interactions made by tree algorithm: \\n')\n",
    "print(tabulate({\"N\": np.array(n).reshape(-1,1), \"theta = 0.2\": N_int[:,0,0], \"theta = 0.4\": N_int[:,1,0], \"theta = 0.8\": N_int[:,2,0] }, headers=\"keys\"))\n"
   ]
  },
  {
   "cell_type": "code",
   "execution_count": null,
   "metadata": {},
   "outputs": [],
   "source": []
  }
 ],
 "metadata": {
  "kernelspec": {
   "display_name": "Python 3",
   "language": "python",
   "name": "python3"
  },
  "language_info": {
   "codemirror_mode": {
    "name": "ipython",
    "version": 3
   },
   "file_extension": ".py",
   "mimetype": "text/x-python",
   "name": "python",
   "nbconvert_exporter": "python",
   "pygments_lexer": "ipython3",
   "version": "3.7.1"
  }
 },
 "nbformat": 4,
 "nbformat_minor": 2
}
